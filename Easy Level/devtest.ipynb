{
 "cells": [
  {
   "cell_type": "code",
   "execution_count": 11,
   "metadata": {},
   "outputs": [],
   "source": [
    "#Method 1 - TC - O(N) SC - O(1)\n",
    "class Solution:\n",
    "    def reverse(self, arr, l, r):\n",
    "        while l < r:\n",
    "            arr[l],arr[r] = arr[r], arr[l]\n",
    "            l += 1\n",
    "            r -= 1\n",
    "    nums = [15, 85, 35, 89, 125]\n",
    "    k = 2\n",
    "    def rotate(self, nums, k):\n",
    "        n = len(nums)\n",
    "        if n < 2:\n",
    "            return\n",
    "        if k >= n:\n",
    "            k = k%n\n",
    "        self.reverse(nums, 0, n-1)\n",
    "        self.reverse(nums, 0, k-1)\n",
    "        self.reverse(nums, k, n-1)      "
   ]
  },
  {
   "cell_type": "code",
   "execution_count": 12,
   "metadata": {},
   "outputs": [
    {
     "name": "stdout",
     "output_type": "stream",
     "text": [
      "[89, 125, 15, 85, 35]\n"
     ]
    }
   ],
   "source": [
    "# Example usage\n",
    "nums = [15, 85, 35, 89, 125]\n",
    "k = 2\n",
    "solution = Solution()\n",
    "solution.rotate(nums, k)\n",
    "print(nums)"
   ]
  },
  {
   "cell_type": "code",
   "execution_count": 7,
   "metadata": {},
   "outputs": [
    {
     "name": "stdout",
     "output_type": "stream",
     "text": [
      "[89, 125, 15, 85, 35]\n"
     ]
    }
   ],
   "source": [
    "#Method 2 TC - O(N) SC - O(N)\n",
    "nums = [15, 85, 35, 89, 125]\n",
    "k = 2\n",
    "n = len(nums)\n",
    "temp = [None] * n\n",
    "for i in range(n):\n",
    "    j = (i+k) % n\n",
    "    temp[j] = nums[i]\n",
    "for i in range(n):\n",
    "    nums[i] = temp[i]\n",
    "print(nums)"
   ]
  },
  {
   "cell_type": "code",
   "execution_count": null,
   "metadata": {},
   "outputs": [],
   "source": []
  }
 ],
 "metadata": {
  "kernelspec": {
   "display_name": "Python 3",
   "language": "python",
   "name": "python3"
  },
  "language_info": {
   "codemirror_mode": {
    "name": "ipython",
    "version": 3
   },
   "file_extension": ".py",
   "mimetype": "text/x-python",
   "name": "python",
   "nbconvert_exporter": "python",
   "pygments_lexer": "ipython3",
   "version": "3.10.4"
  }
 },
 "nbformat": 4,
 "nbformat_minor": 2
}
